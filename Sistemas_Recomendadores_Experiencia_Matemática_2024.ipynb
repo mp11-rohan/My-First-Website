{
  "nbformat": 4,
  "nbformat_minor": 0,
  "metadata": {
    "colab": {
      "provenance": [],
      "toc_visible": true,
      "include_colab_link": true
    },
    "kernelspec": {
      "name": "python3",
      "display_name": "Python 3"
    },
    "language_info": {
      "name": "python"
    }
  },
  "cells": [
    {
      "cell_type": "markdown",
      "metadata": {
        "id": "view-in-github",
        "colab_type": "text"
      },
      "source": [
        "<a href=\"https://colab.research.google.com/github/mp11-rohan/My-First-Website/blob/main/Sistemas_Recomendadores_Experiencia_Matem%C3%A1tica_2024.ipynb\" target=\"_parent\"><img src=\"https://colab.research.google.com/assets/colab-badge.svg\" alt=\"Open In Colab\"/></a>"
      ]
    },
    {
      "cell_type": "code",
      "execution_count": 4,
      "metadata": {
        "id": "kxv9Ht8NIK7t",
        "outputId": "0acee8c1-22b4-4555-ff6d-0e66e2a5ef4a",
        "colab": {
          "base_uri": "https://localhost:8080/"
        }
      },
      "outputs": [
        {
          "output_type": "stream",
          "name": "stdout",
          "text": [
            "Requirement already satisfied: scikit-surprise in /usr/local/lib/python3.10/dist-packages (1.1.4)\n",
            "Requirement already satisfied: joblib>=1.2.0 in /usr/local/lib/python3.10/dist-packages (from scikit-surprise) (1.4.2)\n",
            "Requirement already satisfied: numpy>=1.19.5 in /usr/local/lib/python3.10/dist-packages (from scikit-surprise) (1.25.2)\n",
            "Requirement already satisfied: scipy>=1.6.0 in /usr/local/lib/python3.10/dist-packages (from scikit-surprise) (1.11.4)\n"
          ]
        }
      ],
      "source": [
        "pip install scikit-surprise\n"
      ]
    },
    {
      "cell_type": "code",
      "source": [
        "import pandas as pd\n",
        "from surprise import Reader, Dataset, SVD\n",
        "from surprise.model_selection import train_test_split\n",
        "from surprise.accuracy import rmse\n",
        "\n",
        "# Load the MovieLens dataset\n",
        "!wget -nc http://files.grouplens.org/datasets/movielens/ml-latest-small.zip\n",
        "!unzip -n ml-latest-small.zip"
      ],
      "metadata": {
        "id": "16rdFr0HITdp",
        "outputId": "e86aa743-84d6-4ec6-b1af-14356a2dd7cf",
        "colab": {
          "base_uri": "https://localhost:8080/"
        }
      },
      "execution_count": 5,
      "outputs": [
        {
          "output_type": "stream",
          "name": "stdout",
          "text": [
            "--2024-07-02 12:14:51--  http://files.grouplens.org/datasets/movielens/ml-latest-small.zip\n",
            "Resolving files.grouplens.org (files.grouplens.org)... 128.101.65.152\n",
            "Connecting to files.grouplens.org (files.grouplens.org)|128.101.65.152|:80... connected.\n",
            "HTTP request sent, awaiting response... 200 OK\n",
            "Length: 978202 (955K) [application/zip]\n",
            "Saving to: ‘ml-latest-small.zip’\n",
            "\n",
            "ml-latest-small.zip 100%[===================>] 955.28K   939KB/s    in 1.0s    \n",
            "\n",
            "2024-07-02 12:14:52 (939 KB/s) - ‘ml-latest-small.zip’ saved [978202/978202]\n",
            "\n",
            "Archive:  ml-latest-small.zip\n",
            "   creating: ml-latest-small/\n",
            "  inflating: ml-latest-small/links.csv  \n",
            "  inflating: ml-latest-small/tags.csv  \n",
            "  inflating: ml-latest-small/ratings.csv  \n",
            "  inflating: ml-latest-small/README.txt  \n",
            "  inflating: ml-latest-small/movies.csv  \n"
          ]
        }
      ]
    },
    {
      "cell_type": "code",
      "source": [
        "# Read the dataset into a pandas dataframe\n",
        "ratings = pd.read_csv('ml-latest-small/ratings.csv')\n",
        "movies = pd.read_csv('ml-latest-small/movies.csv')\n",
        "\n",
        "# Prepare the data for Surprise\n",
        "reader = Reader(rating_scale=(0.5, 5.0))\n",
        "data = Dataset.load_from_df(ratings[['userId', 'movieId', 'rating']], reader)"
      ],
      "metadata": {
        "id": "B1Be_odtKkoG"
      },
      "execution_count": 6,
      "outputs": []
    },
    {
      "cell_type": "code",
      "source": [
        "# Split the data into training and test sets\n",
        "trainset, testset = train_test_split(data, test_size=0.2)\n",
        "\n",
        "# Use the SVD algorithm\n",
        "algo = SVD()\n",
        "\n",
        "# Train the algorithm on the trainset, and predict ratings for the testset\n",
        "algo.fit(trainset)\n",
        "predictions = algo.test(testset)\n",
        "\n",
        "# Calculate RMSE\n",
        "print(\"RMSE: \", rmse(predictions))"
      ],
      "metadata": {
        "id": "v9Hdsmc2Kzos",
        "collapsed": true,
        "outputId": "7bcc3547-7f2d-4c77-f720-d67b5acc3011",
        "colab": {
          "base_uri": "https://localhost:8080/"
        }
      },
      "execution_count": 7,
      "outputs": [
        {
          "output_type": "stream",
          "name": "stdout",
          "text": [
            "RMSE: 0.8778\n",
            "RMSE:  0.8777535417493472\n"
          ]
        }
      ]
    },
    {
      "cell_type": "code",
      "source": [
        "# Function to get a list of movie ids that the user has not rated\n",
        "def get_unrated_movies(user_id, ratings_df, movies_df):\n",
        "    rated_movies = ratings_df[ratings_df['userId'] == user_id]['movieId']\n",
        "    all_movies = set(movies_df['movieId'])\n",
        "    rated_movies_set = set(rated_movies)\n",
        "    unrated_movies = list(all_movies - rated_movies_set)\n",
        "    return unrated_movies"
      ],
      "metadata": {
        "id": "qgoneh87K9rN"
      },
      "execution_count": 8,
      "outputs": []
    },
    {
      "cell_type": "code",
      "source": [
        "# Function to recommend movies for a user\n",
        "def recommend_movies(user_id, ratings_df, movies_df, algo, top_n=10):\n",
        "    unrated_movies = get_unrated_movies(user_id, ratings_df, movies_df)\n",
        "    predictions = [algo.predict(user_id, movie_id) for movie_id in unrated_movies]\n",
        "    top_predictions = sorted(predictions, key=lambda x: x.est, reverse=True)[:top_n]\n",
        "    recommended_movie_ids = [pred.iid for pred in top_predictions]\n",
        "    recommended_movies = movies_df[movies_df['movieId'].isin(recommended_movie_ids)]\n",
        "    return recommended_movies"
      ],
      "metadata": {
        "id": "8wZ8xTH6LG7h"
      },
      "execution_count": 9,
      "outputs": []
    },
    {
      "cell_type": "code",
      "source": [
        "# Get recommendations for a specific user\n",
        "user_id = 1\n",
        "recommended_movies = recommend_movies(user_id, ratings, movies, algo, top_n=10)\n",
        "print(f\"Top 10 movie recommendations for user {user_id}:\")\n",
        "print(recommended_movies[['title', 'genres']])"
      ],
      "metadata": {
        "id": "GA6vGpWCLKgL",
        "colab": {
          "base_uri": "https://localhost:8080/"
        },
        "outputId": "993076b9-578b-4b65-d958-f51c90d3292b"
      },
      "execution_count": 10,
      "outputs": [
        {
          "output_type": "stream",
          "name": "stdout",
          "text": [
            "Top 10 movie recommendations for user 1:\n",
            "                                                 title  \\\n",
            "277                   Shawshank Redemption, The (1994)   \n",
            "474                                Blade Runner (1982)   \n",
            "596         Ghost in the Shell (Kôkaku kidôtai) (1995)   \n",
            "602  Dr. Strangelove or: How I Learned to Stop Worr...   \n",
            "681                         Singin' in the Rain (1952)   \n",
            "690                          North by Northwest (1959)   \n",
            "694                                  Casablanca (1942)   \n",
            "696                                My Fair Lady (1964)   \n",
            "704      Sunset Blvd. (a.k.a. Sunset Boulevard) (1950)   \n",
            "868        Wallace & Gromit: The Wrong Trousers (1993)   \n",
            "\n",
            "                                        genres  \n",
            "277                                Crime|Drama  \n",
            "474                     Action|Sci-Fi|Thriller  \n",
            "596                           Animation|Sci-Fi  \n",
            "602                                 Comedy|War  \n",
            "681                     Comedy|Musical|Romance  \n",
            "690  Action|Adventure|Mystery|Romance|Thriller  \n",
            "694                              Drama|Romance  \n",
            "696               Comedy|Drama|Musical|Romance  \n",
            "704                    Drama|Film-Noir|Romance  \n",
            "868            Animation|Children|Comedy|Crime  \n"
          ]
        }
      ]
    }
  ]
}